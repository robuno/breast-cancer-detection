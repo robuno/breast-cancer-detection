{
 "cells": [
  {
   "cell_type": "code",
   "execution_count": 1,
   "metadata": {},
   "outputs": [],
   "source": [
    "import cv2\n",
    "import numpy as np\n",
    "from matplotlib import pyplot as plt \n",
    "import pandas as pd\n",
    "from PIL import Image\n",
    "import numpy as np\n",
    "import os\n",
    "import shutil\n",
    "import seaborn as sns\n",
    "\n"
   ]
  },
  {
   "cell_type": "code",
   "execution_count": 2,
   "metadata": {},
   "outputs": [
    {
     "name": "stdout",
     "output_type": "stream",
     "text": [
      "Number of samples: 54706\n",
      "Number of samples with cancer: 1158\n",
      "Number of samples with no cancer: 53548\n"
     ]
    }
   ],
   "source": [
    "df = pd.read_csv('../train.csv')\n",
    "\n",
    "# count_patients = df.patient_id.unique().size\n",
    "\n",
    "# print(\"Columns:\", df.columns)\n",
    "print(\"Number of samples:\", len(df))\n",
    "print(\"Number of samples with cancer:\", len(df[df[\"cancer\"]==1]))\n",
    "print(\"Number of samples with no cancer:\", len(df[df[\"cancer\"]==0]))\n",
    "# print(\"Number of patients:\", count_patients)\n",
    "\n",
    "#laterality = left or right\n",
    "# density = A rating for how dense the breast tissue is,\n",
    "#           A being the least dense and D being the most dense. Extremely dense tissue can make diagnosis more difficult. \n"
   ]
  },
  {
   "cell_type": "code",
   "execution_count": 10,
   "metadata": {},
   "outputs": [
    {
     "name": "stdout",
     "output_type": "stream",
     "text": [
      "src 0:  2592\n",
      "src 1:  2592\n",
      "new 0:  2592\n",
      "new 1:  2592\n"
     ]
    }
   ],
   "source": [
    "sub_fold = \"train\"\n",
    "\n",
    "src_path_0 = \"../ds/CROPPED_aug_splitted_4white/\"+sub_fold+\"/0/\"\n",
    "src_path_1 = \"../ds/CROPPED_aug_splitted_4white/\"+sub_fold+\"/1/\"\n",
    "\n",
    "imgs_in_folder0 = len(os.listdir(src_path_0))\n",
    "imgs_in_folder1 = len(os.listdir(src_path_1))\n",
    "print(\"src 0: \",imgs_in_folder0)\n",
    "print(\"src 1: \",imgs_in_folder1)\n",
    "\n",
    "new_path_0 = \"../clahe/4white_aug_v3/\"+sub_fold+\"/0/\"\n",
    "new_path_1 = \"../clahe/4white_aug_v3/\"+sub_fold+\"/1/\"\n",
    "\n",
    "new_imgs_in_folder0 = len(os.listdir(new_path_0))\n",
    "new_imgs_in_folder1 = len(os.listdir(new_path_1))\n",
    "print(\"new 0: \",new_imgs_in_folder0)\n",
    "print(\"new 1: \",new_imgs_in_folder1)"
   ]
  },
  {
   "cell_type": "code",
   "execution_count": 8,
   "metadata": {},
   "outputs": [
    {
     "name": "stdout",
     "output_type": "stream",
     "text": [
      "2592\n"
     ]
    }
   ],
   "source": [
    "counter_0_img = 0\n",
    "for file_img in os.listdir(src_path_0):\n",
    "    img = cv2.imread(src_path_0+file_img, cv2.IMREAD_GRAYSCALE)\n",
    "    \n",
    "    clahe = cv2.createCLAHE(clipLimit=2.0, tileGridSize=(8,8))\n",
    "    cl1 = clahe.apply(img)\n",
    "    cv2.imwrite(new_path_0+str(file_img), cl1)\n",
    "\n",
    "    counter_0_img += 1\n",
    "\n",
    "print(counter_0_img)"
   ]
  },
  {
   "cell_type": "code",
   "execution_count": 9,
   "metadata": {},
   "outputs": [
    {
     "name": "stdout",
     "output_type": "stream",
     "text": [
      "2592\n"
     ]
    }
   ],
   "source": [
    "counter_1_img = 0\n",
    "for file_img in os.listdir(src_path_1):\n",
    "    img = cv2.imread(src_path_1+file_img, cv2.IMREAD_GRAYSCALE)\n",
    "    \n",
    "    clahe = cv2.createCLAHE(clipLimit=2.0, tileGridSize=(8,8))\n",
    "    cl1 = clahe.apply(img)\n",
    "    cv2.imwrite(new_path_1+str(file_img), cl1)\n",
    "\n",
    "    counter_1_img += 1\n",
    "\n",
    "print(counter_1_img)"
   ]
  }
 ],
 "metadata": {
  "kernelspec": {
   "display_name": "pytorch_env_v_1_13_1",
   "language": "python",
   "name": "python3"
  },
  "language_info": {
   "codemirror_mode": {
    "name": "ipython",
    "version": 3
   },
   "file_extension": ".py",
   "mimetype": "text/x-python",
   "name": "python",
   "nbconvert_exporter": "python",
   "pygments_lexer": "ipython3",
   "version": "3.10.8"
  },
  "orig_nbformat": 4
 },
 "nbformat": 4,
 "nbformat_minor": 2
}
