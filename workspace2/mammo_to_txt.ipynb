{
 "cells": [
  {
   "cell_type": "code",
   "execution_count": 1,
   "metadata": {},
   "outputs": [
    {
     "name": "stderr",
     "output_type": "stream",
     "text": [
      "c:\\Users\\rainm\\miniconda3\\envs\\pytorch2\\lib\\site-packages\\tqdm\\auto.py:21: TqdmWarning: IProgress not found. Please update jupyter and ipywidgets. See https://ipywidgets.readthedocs.io/en/stable/user_install.html\n",
      "  from .autonotebook import tqdm as notebook_tqdm\n"
     ]
    }
   ],
   "source": [
    "import os\n",
    "from tqdm.auto import tqdm\n",
    "import numpy as np\n",
    "from PIL import Image"
   ]
  },
  {
   "cell_type": "code",
   "execution_count": 2,
   "metadata": {},
   "outputs": [
    {
     "data": {
      "text/plain": [
       "(20959, 452)"
      ]
     },
     "execution_count": 2,
     "metadata": {},
     "output_type": "execute_result"
    }
   ],
   "source": [
    "cc_train_0_path = \"./data/view_dset_01_splitted/cc_splitted/train/0/\"\n",
    "cc_train_1_path = \"./data/view_dset_01_splitted/cc_splitted/train/1/\"\n",
    "\n",
    "benign_paths = []\n",
    "for name in os.listdir(cc_train_0_path):\n",
    "    benign_paths.append((cc_train_0_path + name, name))\n",
    "\n",
    "malignant_paths = []\n",
    "for name in os.listdir(cc_train_1_path):\n",
    "    malignant_paths.append((cc_train_1_path + name, name))\n",
    "\n",
    "len(benign_paths), len(malignant_paths)"
   ]
  },
  {
   "cell_type": "code",
   "execution_count": 4,
   "metadata": {},
   "outputs": [
    {
     "name": "stderr",
     "output_type": "stream",
     "text": [
      "100%|██████████| 500/500 [00:00<00:00, 657.76it/s]\n",
      "100%|██████████| 452/452 [00:00<00:00, 664.78it/s]\n"
     ]
    },
    {
     "name": "stdout",
     "output_type": "stream",
     "text": [
      "(952, 1024)\n"
     ]
    }
   ],
   "source": [
    "txt_dset_img = open('0_trn_img.txt','w')\n",
    "txt_dset_lab = open('0_trn_lab.txt','w')\n",
    "\n",
    "result_arr = []\n",
    "for path, filename in tqdm(benign_paths[:500]):\n",
    "    img = Image.open(path)\n",
    "    img = img.resize((32,32))\n",
    "    img_array = np.asarray(img).reshape(32*32)\n",
    "    result_arr.append(img_array)\n",
    "    txt_dset_lab.write(\"0\")\n",
    "    txt_dset_lab.write(\"\\n\")\n",
    "\n",
    "for path, filename in tqdm(malignant_paths[:452]):\n",
    "    img = Image.open(path)\n",
    "    img = img.resize((32,32))\n",
    "    img_array = np.asarray(img).reshape(32*32)\n",
    "    result_arr.append(img_array)\n",
    "    txt_dset_lab.write(\"1\")\n",
    "    txt_dset_lab.write(\"\\n\")\n",
    "\n",
    "result_arr = np.vstack(result_arr)\n",
    "print(result_arr.shape)\n",
    "np.savetxt(\"0_trn_img.txt\", result_arr)"
   ]
  }
 ],
 "metadata": {
  "kernelspec": {
   "display_name": "pytorch2",
   "language": "python",
   "name": "python3"
  },
  "language_info": {
   "codemirror_mode": {
    "name": "ipython",
    "version": 3
   },
   "file_extension": ".py",
   "mimetype": "text/x-python",
   "name": "python",
   "nbconvert_exporter": "python",
   "pygments_lexer": "ipython3",
   "version": "3.10.10"
  },
  "orig_nbformat": 4
 },
 "nbformat": 4,
 "nbformat_minor": 2
}
