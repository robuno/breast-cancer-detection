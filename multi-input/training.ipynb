{
 "cells": [
  {
   "cell_type": "code",
   "execution_count": 1,
   "metadata": {},
   "outputs": [
    {
     "name": "stderr",
     "output_type": "stream",
     "text": [
      "c:\\Users\\rainm\\miniconda3\\envs\\pytorch2\\lib\\site-packages\\tqdm\\auto.py:21: TqdmWarning: IProgress not found. Please update jupyter and ipywidgets. See https://ipywidgets.readthedocs.io/en/stable/user_install.html\n",
      "  from .autonotebook import tqdm as notebook_tqdm\n"
     ]
    }
   ],
   "source": [
    "from PIL import Image\n",
    "from tqdm.auto import tqdm\n",
    "import cv2\n",
    "import torch\n",
    "import pandas as pd\n",
    "import matplotlib.pyplot as plt\n",
    "import numpy as np\n",
    "import torch.nn as nn\n",
    "import torchvision.transforms as transforms\n",
    "import torchvision.models as models\n",
    "from torch.utils.data import Dataset, DataLoader\n",
    "from torchinfo import summary\n",
    "from timeit import default_timer as timer \n",
    "from sklearn.preprocessing import LabelEncoder"
   ]
  },
  {
   "cell_type": "code",
   "execution_count": 2,
   "metadata": {},
   "outputs": [],
   "source": [
    "# Input\n",
    "TRAIN_SUBSET_CSV_PATH = f\"./output/df_train_subset.csv\"\n",
    "\n",
    "# Hyperparameters\n",
    "NUM_EPOCHS = 20\n",
    "BATCH_SIZE = 40\n",
    "NUM_WORKERS = 12\n",
    "LR = 0.0005\n",
    "TABULAR_COLUMNS  = [\"age\"]"
   ]
  },
  {
   "cell_type": "code",
   "execution_count": 3,
   "metadata": {},
   "outputs": [],
   "source": [
    "DF_TRAIN_SUBSET = pd.read_csv(TRAIN_SUBSET_CSV_PATH)"
   ]
  },
  {
   "cell_type": "code",
   "execution_count": 4,
   "metadata": {},
   "outputs": [],
   "source": [
    "DF_TRAIN_SUBSET[\"view\"] = LabelEncoder().fit_transform(DF_TRAIN_SUBSET[\"view\"])\n",
    "DF_TRAIN_SUBSET[\"laterality\"] = LabelEncoder().fit_transform(DF_TRAIN_SUBSET[\"laterality\"])"
   ]
  },
  {
   "cell_type": "code",
   "execution_count": 5,
   "metadata": {},
   "outputs": [
    {
     "data": {
      "text/html": [
       "<div>\n",
       "<style scoped>\n",
       "    .dataframe tbody tr th:only-of-type {\n",
       "        vertical-align: middle;\n",
       "    }\n",
       "\n",
       "    .dataframe tbody tr th {\n",
       "        vertical-align: top;\n",
       "    }\n",
       "\n",
       "    .dataframe thead th {\n",
       "        text-align: right;\n",
       "    }\n",
       "</style>\n",
       "<table border=\"1\" class=\"dataframe\">\n",
       "  <thead>\n",
       "    <tr style=\"text-align: right;\">\n",
       "      <th></th>\n",
       "      <th>Unnamed: 0</th>\n",
       "      <th>site_id</th>\n",
       "      <th>patient_id</th>\n",
       "      <th>image_id</th>\n",
       "      <th>laterality</th>\n",
       "      <th>view</th>\n",
       "      <th>age</th>\n",
       "      <th>cancer</th>\n",
       "      <th>biopsy</th>\n",
       "      <th>invasive</th>\n",
       "      <th>...</th>\n",
       "      <th>density</th>\n",
       "      <th>machine_id</th>\n",
       "      <th>difficult_negative_case</th>\n",
       "      <th>image_path</th>\n",
       "      <th>ID</th>\n",
       "      <th>Abnormality</th>\n",
       "      <th>Subtype</th>\n",
       "      <th>Path</th>\n",
       "      <th>Method_crop</th>\n",
       "      <th>processed_img_path</th>\n",
       "    </tr>\n",
       "  </thead>\n",
       "  <tbody>\n",
       "    <tr>\n",
       "      <th>0</th>\n",
       "      <td>0</td>\n",
       "      <td>1.0</td>\n",
       "      <td>10130.0</td>\n",
       "      <td>3.888120e+08</td>\n",
       "      <td>0</td>\n",
       "      <td>4</td>\n",
       "      <td>71.0</td>\n",
       "      <td>1</td>\n",
       "      <td>1.0</td>\n",
       "      <td>1.0</td>\n",
       "      <td>...</td>\n",
       "      <td>B</td>\n",
       "      <td>49.0</td>\n",
       "      <td>False</td>\n",
       "      <td>./images_rsna/10130_388811999.png</td>\n",
       "      <td>NaN</td>\n",
       "      <td>NaN</td>\n",
       "      <td>NaN</td>\n",
       "      <td>NaN</td>\n",
       "      <td>NaN</td>\n",
       "      <td>./output/RSNA+INBREAST/10130_388811999.png</td>\n",
       "    </tr>\n",
       "    <tr>\n",
       "      <th>1</th>\n",
       "      <td>1</td>\n",
       "      <td>1.0</td>\n",
       "      <td>10130.0</td>\n",
       "      <td>6.134626e+08</td>\n",
       "      <td>0</td>\n",
       "      <td>1</td>\n",
       "      <td>71.0</td>\n",
       "      <td>1</td>\n",
       "      <td>1.0</td>\n",
       "      <td>1.0</td>\n",
       "      <td>...</td>\n",
       "      <td>B</td>\n",
       "      <td>49.0</td>\n",
       "      <td>False</td>\n",
       "      <td>./images_rsna/10130_613462606.png</td>\n",
       "      <td>NaN</td>\n",
       "      <td>NaN</td>\n",
       "      <td>NaN</td>\n",
       "      <td>NaN</td>\n",
       "      <td>NaN</td>\n",
       "      <td>./output/RSNA+INBREAST/10130_613462606.png</td>\n",
       "    </tr>\n",
       "    <tr>\n",
       "      <th>2</th>\n",
       "      <td>2</td>\n",
       "      <td>1.0</td>\n",
       "      <td>10130.0</td>\n",
       "      <td>1.360339e+09</td>\n",
       "      <td>0</td>\n",
       "      <td>1</td>\n",
       "      <td>71.0</td>\n",
       "      <td>1</td>\n",
       "      <td>1.0</td>\n",
       "      <td>1.0</td>\n",
       "      <td>...</td>\n",
       "      <td>B</td>\n",
       "      <td>49.0</td>\n",
       "      <td>False</td>\n",
       "      <td>./images_rsna/10130_1360338805.png</td>\n",
       "      <td>NaN</td>\n",
       "      <td>NaN</td>\n",
       "      <td>NaN</td>\n",
       "      <td>NaN</td>\n",
       "      <td>NaN</td>\n",
       "      <td>./output/RSNA+INBREAST/10130_1360338805.png</td>\n",
       "    </tr>\n",
       "    <tr>\n",
       "      <th>3</th>\n",
       "      <td>3</td>\n",
       "      <td>1.0</td>\n",
       "      <td>10130.0</td>\n",
       "      <td>1.672637e+09</td>\n",
       "      <td>0</td>\n",
       "      <td>4</td>\n",
       "      <td>71.0</td>\n",
       "      <td>1</td>\n",
       "      <td>1.0</td>\n",
       "      <td>1.0</td>\n",
       "      <td>...</td>\n",
       "      <td>B</td>\n",
       "      <td>49.0</td>\n",
       "      <td>False</td>\n",
       "      <td>./images_rsna/10130_1672636630.png</td>\n",
       "      <td>NaN</td>\n",
       "      <td>NaN</td>\n",
       "      <td>NaN</td>\n",
       "      <td>NaN</td>\n",
       "      <td>NaN</td>\n",
       "      <td>./output/RSNA+INBREAST/10130_1672636630.png</td>\n",
       "    </tr>\n",
       "    <tr>\n",
       "      <th>4</th>\n",
       "      <td>4</td>\n",
       "      <td>1.0</td>\n",
       "      <td>10226.0</td>\n",
       "      <td>4.616148e+08</td>\n",
       "      <td>0</td>\n",
       "      <td>4</td>\n",
       "      <td>71.0</td>\n",
       "      <td>1</td>\n",
       "      <td>1.0</td>\n",
       "      <td>1.0</td>\n",
       "      <td>...</td>\n",
       "      <td>C</td>\n",
       "      <td>49.0</td>\n",
       "      <td>False</td>\n",
       "      <td>./images_rsna/10226_461614796.png</td>\n",
       "      <td>NaN</td>\n",
       "      <td>NaN</td>\n",
       "      <td>NaN</td>\n",
       "      <td>NaN</td>\n",
       "      <td>NaN</td>\n",
       "      <td>./output/RSNA+INBREAST/10226_461614796.png</td>\n",
       "    </tr>\n",
       "  </tbody>\n",
       "</table>\n",
       "<p>5 rows × 22 columns</p>\n",
       "</div>"
      ],
      "text/plain": [
       "   Unnamed: 0  site_id  patient_id      image_id  laterality  view   age  \\\n",
       "0           0      1.0     10130.0  3.888120e+08           0     4  71.0   \n",
       "1           1      1.0     10130.0  6.134626e+08           0     1  71.0   \n",
       "2           2      1.0     10130.0  1.360339e+09           0     1  71.0   \n",
       "3           3      1.0     10130.0  1.672637e+09           0     4  71.0   \n",
       "4           4      1.0     10226.0  4.616148e+08           0     4  71.0   \n",
       "\n",
       "   cancer  biopsy  invasive  ...  density  machine_id difficult_negative_case  \\\n",
       "0       1     1.0       1.0  ...        B        49.0                   False   \n",
       "1       1     1.0       1.0  ...        B        49.0                   False   \n",
       "2       1     1.0       1.0  ...        B        49.0                   False   \n",
       "3       1     1.0       1.0  ...        B        49.0                   False   \n",
       "4       1     1.0       1.0  ...        C        49.0                   False   \n",
       "\n",
       "                           image_path   ID Abnormality Subtype Path  \\\n",
       "0   ./images_rsna/10130_388811999.png  NaN         NaN     NaN  NaN   \n",
       "1   ./images_rsna/10130_613462606.png  NaN         NaN     NaN  NaN   \n",
       "2  ./images_rsna/10130_1360338805.png  NaN         NaN     NaN  NaN   \n",
       "3  ./images_rsna/10130_1672636630.png  NaN         NaN     NaN  NaN   \n",
       "4   ./images_rsna/10226_461614796.png  NaN         NaN     NaN  NaN   \n",
       "\n",
       "  Method_crop                           processed_img_path  \n",
       "0         NaN   ./output/RSNA+INBREAST/10130_388811999.png  \n",
       "1         NaN   ./output/RSNA+INBREAST/10130_613462606.png  \n",
       "2         NaN  ./output/RSNA+INBREAST/10130_1360338805.png  \n",
       "3         NaN  ./output/RSNA+INBREAST/10130_1672636630.png  \n",
       "4         NaN   ./output/RSNA+INBREAST/10226_461614796.png  \n",
       "\n",
       "[5 rows x 22 columns]"
      ]
     },
     "execution_count": 5,
     "metadata": {},
     "output_type": "execute_result"
    }
   ],
   "source": [
    "DF_TRAIN_SUBSET.head()"
   ]
  },
  {
   "cell_type": "code",
   "execution_count": 6,
   "metadata": {},
   "outputs": [],
   "source": [
    "DF_TRAIN_SUBSET[\"age\"] = DF_TRAIN_SUBSET[\"age\"].fillna(DF_TRAIN_SUBSET[\"age\"].mean())"
   ]
  },
  {
   "cell_type": "code",
   "execution_count": 7,
   "metadata": {},
   "outputs": [],
   "source": [
    "class  MultiInputDataset(Dataset):\n",
    "    \n",
    "    def __init__(self, ds, tabular_columns, normalize, is_train=True):\n",
    "        self.is_train = is_train\n",
    "        self.ds = ds\n",
    "        self.tabular_columns = tabular_columns\n",
    "\n",
    "        self.transform = transforms.Compose([\n",
    "                                            transforms.Resize((224, 224)),\n",
    "                                            transforms.Grayscale(num_output_channels=3),\n",
    "                                            transforms.ToTensor(),\n",
    "                                            normalize\n",
    "                                            ])\n",
    "        \n",
    "    def __len__(self):\n",
    "        return len(self.ds)\n",
    "    \n",
    "    def __getitem__(self, idx):\n",
    "\n",
    "        image_path = self.ds['processed_img_path'].iloc[idx]\n",
    "        image = Image.open(image_path)\n",
    "        \n",
    "        image = self.transform(image)\n",
    "        tabular_data = self.ds.iloc[idx, 0:]\n",
    "        cancer = tabular_data[\"cancer\"]\n",
    "        tabular_data = np.array(self.ds.iloc[idx][TABULAR_COLUMNS].values, dtype=np.float32)\n",
    "\n",
    "        return image, tabular_data, cancer"
   ]
  },
  {
   "cell_type": "code",
   "execution_count": 8,
   "metadata": {},
   "outputs": [],
   "source": [
    "normalize = transforms.Normalize(mean=[0.485, 0.456, 0.406],\n",
    "                                std=[0.229, 0.224, 0.225])\n",
    "     \n",
    "full_ds = MultiInputDataset(DF_TRAIN_SUBSET,\n",
    "                            tabular_columns=TABULAR_COLUMNS,\n",
    "                            normalize=normalize\n",
    "                            )\n",
    "train_length = round((full_ds.__len__()*80)/100)\n",
    "test_length = full_ds.__len__() - train_length\n",
    "\n",
    "train_ds, test_ds = torch.utils.data.random_split(dataset=full_ds, \n",
    "                                                lengths=[train_length, test_length], \n",
    "                                                generator=torch.Generator().manual_seed(42))\n",
    "\n",
    "train_dataloader = DataLoader(train_ds, \n",
    "                            batch_size=BATCH_SIZE, \n",
    "                            shuffle=True,\n",
    "                            pin_memory=True)\n",
    "\n",
    "test_dataloader = DataLoader(test_ds, \n",
    "                            batch_size=BATCH_SIZE,\n",
    "                            shuffle=False,\n",
    "                            pin_memory=True)"
   ]
  },
  {
   "cell_type": "code",
   "execution_count": 9,
   "metadata": {},
   "outputs": [
    {
     "data": {
      "text/plain": [
       "10504"
      ]
     },
     "execution_count": 9,
     "metadata": {},
     "output_type": "execute_result"
    }
   ],
   "source": [
    "len(full_ds)"
   ]
  },
  {
   "cell_type": "code",
   "execution_count": 10,
   "metadata": {},
   "outputs": [
    {
     "data": {
      "text/plain": [
       "tensor([[[-0.0287, -0.9877, -1.1075,  ..., -2.0837, -2.0837, -2.0837],\n",
       "         [ 0.1083, -0.1999, -0.5596,  ..., -2.0837, -2.0837, -2.0837],\n",
       "         [ 0.8276,  1.0844,  1.2728,  ..., -2.0837, -2.0837, -2.0837],\n",
       "         ...,\n",
       "         [-0.6109, -0.3883, -0.3369,  ..., -2.0837, -2.0837, -2.0837],\n",
       "         [-0.8507, -0.5424, -0.4226,  ..., -2.0837, -2.0837, -2.0837],\n",
       "         [-1.1418, -1.0562, -1.1932,  ..., -2.0837, -2.0837, -2.0837]],\n",
       "\n",
       "        [[ 0.1001, -0.8803, -1.0028,  ..., -2.0007, -2.0007, -2.0007],\n",
       "         [ 0.2402, -0.0749, -0.4426,  ..., -2.0007, -2.0007, -2.0007],\n",
       "         [ 0.9755,  1.2381,  1.4307,  ..., -2.0007, -2.0007, -2.0007],\n",
       "         ...,\n",
       "         [-0.4951, -0.2675, -0.2150,  ..., -2.0007, -2.0007, -2.0007],\n",
       "         [-0.7402, -0.4251, -0.3025,  ..., -2.0007, -2.0007, -2.0007],\n",
       "         [-1.0378, -0.9503, -1.0903,  ..., -2.0007, -2.0007, -2.0007]],\n",
       "\n",
       "        [[ 0.3219, -0.6541, -0.7761,  ..., -1.7696, -1.7696, -1.7696],\n",
       "         [ 0.4614,  0.1476, -0.2184,  ..., -1.7696, -1.7696, -1.7696],\n",
       "         [ 1.1934,  1.4548,  1.6465,  ..., -1.7696, -1.7696, -1.7696],\n",
       "         ...,\n",
       "         [-0.2707, -0.0441,  0.0082,  ..., -1.7696, -1.7696, -1.7696],\n",
       "         [-0.5147, -0.2010, -0.0790,  ..., -1.7696, -1.7696, -1.7696],\n",
       "         [-0.8110, -0.7238, -0.8633,  ..., -1.7696, -1.7696, -1.7696]]])"
      ]
     },
     "execution_count": 10,
     "metadata": {},
     "output_type": "execute_result"
    }
   ],
   "source": [
    "item = train_ds.__getitem__(0)[0]\n",
    "item"
   ]
  },
  {
   "cell_type": "code",
   "execution_count": 11,
   "metadata": {},
   "outputs": [
    {
     "data": {
      "text/plain": [
       "'cuda'"
      ]
     },
     "execution_count": 11,
     "metadata": {},
     "output_type": "execute_result"
    }
   ],
   "source": [
    "device = \"cuda\" if torch.cuda.is_available() else \"cpu\"\n",
    "device"
   ]
  },
  {
   "cell_type": "code",
   "execution_count": 12,
   "metadata": {},
   "outputs": [],
   "source": [
    "\"\"\" weights = models.ResNet50_Weights.DEFAULT\n",
    "model = models.resnet50(weights=weights) \"\"\"\n",
    "\n",
    "\"\"\" weights = models.EfficientNet_B4_Weights.DEFAULT\n",
    "model = models.efficientnet_b4(weights=weights) \"\"\"\n",
    "\n",
    "weights = models.DenseNet121_Weights.DEFAULT\n",
    "model = models.densenet121(weights=weights)"
   ]
  },
  {
   "cell_type": "code",
   "execution_count": 13,
   "metadata": {},
   "outputs": [],
   "source": [
    "# freeze the base layers\n",
    "for param in model.parameters():\n",
    "    param.requires_grad = False"
   ]
  },
  {
   "cell_type": "code",
   "execution_count": 14,
   "metadata": {},
   "outputs": [
    {
     "data": {
      "text/plain": [
       "' IN_FEATURES = model.classifier[1].in_features\\nmodel.classifier[1] = nn.Sequential(\\n            nn.Dropout(p=DROPOUT_PROB, inplace=True),\\n            nn.Linear(in_features=IN_FEATURES, out_features=2)) '"
      ]
     },
     "execution_count": 14,
     "metadata": {},
     "output_type": "execute_result"
    }
   ],
   "source": [
    "DROPOUT_PROB = 0.1\n",
    "\n",
    "torch.manual_seed(42)\n",
    "torch.cuda.manual_seed(42)\n",
    "\n",
    "# Densenet\n",
    "IN_FEATURES = model.classifier.in_features\n",
    "model.classifier = nn.Sequential(\n",
    "            nn.Dropout(p=DROPOUT_PROB, inplace=True),\n",
    "            nn.Linear(in_features=IN_FEATURES, out_features=2))\n",
    "\n",
    "# Resnet\n",
    "\"\"\" IN_FEATURES = model.fc.in_features\n",
    "model.fc = nn.Sequential(\n",
    "            nn.Dropout(p=DROPOUT_PROB, inplace=True),\n",
    "            nn.Linear(in_features=IN_FEATURES, out_features=2)) \"\"\"\n",
    "\n",
    "# Efficientnet\n",
    "\"\"\" IN_FEATURES = model.classifier[1].in_features\n",
    "model.classifier[1] = nn.Sequential(\n",
    "            nn.Dropout(p=DROPOUT_PROB, inplace=True),\n",
    "            nn.Linear(in_features=IN_FEATURES, out_features=2)) \"\"\""
   ]
  },
  {
   "cell_type": "code",
   "execution_count": 15,
   "metadata": {},
   "outputs": [],
   "source": [
    "class MultiInputClassifier(nn.Module):\n",
    "    def __init__(self, model, use_tabular=False, output_neurons=16,  tabular_columns=len(TABULAR_COLUMNS)):\n",
    "        super().__init__()\n",
    "        self.use_tabular = use_tabular\n",
    "        self.tabular_columns = tabular_columns\n",
    "        self.output_neurons = output_neurons      \n",
    "        self.pretrained = model\n",
    "\n",
    "        self.tabular = nn.Sequential(nn.Linear(self.tabular_columns, self.output_neurons),\n",
    "                                    nn.ReLU(),\n",
    "                                    nn.Linear(self.output_neurons, self.output_neurons*3),\n",
    "                                    nn.ReLU(),\n",
    "                                    nn.Linear(self.output_neurons*3, self.output_neurons*3*3),\n",
    "                                    nn.ReLU()\n",
    "                                    )\n",
    "\n",
    "        if self.use_tabular:\n",
    "            self.img_plus_tab_classifier = nn.Linear(self.output_neurons*3*3+2, 2)\n",
    "        else:\n",
    "            self.img_classifier = nn.Linear(2, 2)\n",
    "\n",
    "    def forward(self, img, tab):\n",
    "        img = self.pretrained(img)\n",
    "        tab = self.tabular(tab)\n",
    "\n",
    "        if self.use_tabular:\n",
    "            x = torch.cat((img, tab), dim=1)\n",
    "            #x = nn.ReLU(x)\n",
    "            x = self.img_plus_tab_classifier(x)       \n",
    "        else:\n",
    "            x = img\n",
    "            x = self.img_classifier(x)\n",
    "        return x"
   ]
  },
  {
   "cell_type": "code",
   "execution_count": 16,
   "metadata": {},
   "outputs": [],
   "source": [
    "model_new = MultiInputClassifier(model, use_tabular=False)\n",
    "#model_new"
   ]
  },
  {
   "cell_type": "code",
   "execution_count": 17,
   "metadata": {},
   "outputs": [
    {
     "name": "stderr",
     "output_type": "stream",
     "text": [
      "  5%|▌         | 1/20 [01:01<19:32, 61.69s/it]"
     ]
    },
    {
     "name": "stdout",
     "output_type": "stream",
     "text": [
      "Epoch: 1 | train_loss: 0.5272 | train_acc: 0.7561 | test_loss: 0.4265 | test_acc: 0.8252\n"
     ]
    },
    {
     "name": "stderr",
     "output_type": "stream",
     "text": [
      " 10%|█         | 2/20 [01:51<16:19, 54.43s/it]"
     ]
    },
    {
     "name": "stdout",
     "output_type": "stream",
     "text": [
      "Epoch: 2 | train_loss: 0.4130 | train_acc: 0.8291 | test_loss: 0.4030 | test_acc: 0.8421\n"
     ]
    },
    {
     "name": "stderr",
     "output_type": "stream",
     "text": [
      " 15%|█▌        | 3/20 [02:37<14:23, 50.79s/it]"
     ]
    },
    {
     "name": "stdout",
     "output_type": "stream",
     "text": [
      "Epoch: 3 | train_loss: 0.4008 | train_acc: 0.8366 | test_loss: 0.3941 | test_acc: 0.8454\n"
     ]
    },
    {
     "name": "stderr",
     "output_type": "stream",
     "text": [
      " 20%|██        | 4/20 [03:20<12:46, 47.88s/it]"
     ]
    },
    {
     "name": "stdout",
     "output_type": "stream",
     "text": [
      "Epoch: 4 | train_loss: 0.3955 | train_acc: 0.8350 | test_loss: 0.4097 | test_acc: 0.8487\n"
     ]
    },
    {
     "name": "stderr",
     "output_type": "stream",
     "text": [
      " 25%|██▌       | 5/20 [04:04<11:33, 46.24s/it]"
     ]
    },
    {
     "name": "stdout",
     "output_type": "stream",
     "text": [
      "Epoch: 5 | train_loss: 0.3868 | train_acc: 0.8382 | test_loss: 0.3918 | test_acc: 0.8520\n"
     ]
    },
    {
     "name": "stderr",
     "output_type": "stream",
     "text": [
      " 30%|███       | 6/20 [04:47<10:34, 45.29s/it]"
     ]
    },
    {
     "name": "stdout",
     "output_type": "stream",
     "text": [
      "Epoch: 6 | train_loss: 0.3855 | train_acc: 0.8421 | test_loss: 0.3791 | test_acc: 0.8398\n"
     ]
    },
    {
     "name": "stderr",
     "output_type": "stream",
     "text": [
      " 35%|███▌      | 7/20 [05:31<09:42, 44.79s/it]"
     ]
    },
    {
     "name": "stdout",
     "output_type": "stream",
     "text": [
      "Epoch: 7 | train_loss: 0.3822 | train_acc: 0.8460 | test_loss: 0.3739 | test_acc: 0.8440\n"
     ]
    },
    {
     "name": "stderr",
     "output_type": "stream",
     "text": [
      " 40%|████      | 8/20 [06:14<08:51, 44.31s/it]"
     ]
    },
    {
     "name": "stdout",
     "output_type": "stream",
     "text": [
      "Epoch: 8 | train_loss: 0.3817 | train_acc: 0.8463 | test_loss: 0.3789 | test_acc: 0.8520\n"
     ]
    },
    {
     "name": "stderr",
     "output_type": "stream",
     "text": [
      " 45%|████▌     | 9/20 [06:58<08:04, 44.06s/it]"
     ]
    },
    {
     "name": "stdout",
     "output_type": "stream",
     "text": [
      "Epoch: 9 | train_loss: 0.3753 | train_acc: 0.8506 | test_loss: 0.3844 | test_acc: 0.8558\n"
     ]
    },
    {
     "name": "stderr",
     "output_type": "stream",
     "text": [
      " 50%|█████     | 10/20 [07:41<07:18, 43.89s/it]"
     ]
    },
    {
     "name": "stdout",
     "output_type": "stream",
     "text": [
      "Epoch: 10 | train_loss: 0.3784 | train_acc: 0.8474 | test_loss: 0.3730 | test_acc: 0.8534\n"
     ]
    },
    {
     "name": "stderr",
     "output_type": "stream",
     "text": [
      " 55%|█████▌    | 11/20 [08:24<06:33, 43.67s/it]"
     ]
    },
    {
     "name": "stdout",
     "output_type": "stream",
     "text": [
      "Epoch: 11 | train_loss: 0.3718 | train_acc: 0.8475 | test_loss: 0.3720 | test_acc: 0.8553\n"
     ]
    },
    {
     "name": "stderr",
     "output_type": "stream",
     "text": [
      " 60%|██████    | 12/20 [09:08<05:48, 43.60s/it]"
     ]
    },
    {
     "name": "stdout",
     "output_type": "stream",
     "text": [
      "Epoch: 12 | train_loss: 0.3766 | train_acc: 0.8496 | test_loss: 0.3707 | test_acc: 0.8501\n"
     ]
    },
    {
     "name": "stderr",
     "output_type": "stream",
     "text": [
      " 65%|██████▌   | 13/20 [09:51<05:04, 43.54s/it]"
     ]
    },
    {
     "name": "stdout",
     "output_type": "stream",
     "text": [
      "Epoch: 13 | train_loss: 0.3726 | train_acc: 0.8458 | test_loss: 0.3668 | test_acc: 0.8435\n"
     ]
    },
    {
     "name": "stderr",
     "output_type": "stream",
     "text": [
      " 70%|███████   | 14/20 [10:35<04:21, 43.55s/it]"
     ]
    },
    {
     "name": "stdout",
     "output_type": "stream",
     "text": [
      "Epoch: 14 | train_loss: 0.3704 | train_acc: 0.8490 | test_loss: 0.3727 | test_acc: 0.8558\n"
     ]
    },
    {
     "name": "stderr",
     "output_type": "stream",
     "text": [
      " 75%|███████▌  | 15/20 [11:20<03:40, 44.01s/it]"
     ]
    },
    {
     "name": "stdout",
     "output_type": "stream",
     "text": [
      "Epoch: 15 | train_loss: 0.3778 | train_acc: 0.8451 | test_loss: 0.3655 | test_acc: 0.8482\n"
     ]
    },
    {
     "name": "stderr",
     "output_type": "stream",
     "text": [
      " 80%|████████  | 16/20 [12:03<02:54, 43.71s/it]"
     ]
    },
    {
     "name": "stdout",
     "output_type": "stream",
     "text": [
      "Epoch: 16 | train_loss: 0.3711 | train_acc: 0.8517 | test_loss: 0.3669 | test_acc: 0.8534\n"
     ]
    },
    {
     "name": "stderr",
     "output_type": "stream",
     "text": [
      " 85%|████████▌ | 17/20 [12:45<02:10, 43.35s/it]"
     ]
    },
    {
     "name": "stdout",
     "output_type": "stream",
     "text": [
      "Epoch: 17 | train_loss: 0.3653 | train_acc: 0.8541 | test_loss: 0.3710 | test_acc: 0.8563\n"
     ]
    },
    {
     "name": "stderr",
     "output_type": "stream",
     "text": [
      " 90%|█████████ | 18/20 [13:28<01:26, 43.15s/it]"
     ]
    },
    {
     "name": "stdout",
     "output_type": "stream",
     "text": [
      "Epoch: 18 | train_loss: 0.3706 | train_acc: 0.8501 | test_loss: 0.3663 | test_acc: 0.8482\n"
     ]
    },
    {
     "name": "stderr",
     "output_type": "stream",
     "text": [
      " 95%|█████████▌| 19/20 [14:10<00:42, 42.91s/it]"
     ]
    },
    {
     "name": "stdout",
     "output_type": "stream",
     "text": [
      "Epoch: 19 | train_loss: 0.3743 | train_acc: 0.8477 | test_loss: 0.3651 | test_acc: 0.8464\n"
     ]
    },
    {
     "name": "stderr",
     "output_type": "stream",
     "text": [
      "100%|██████████| 20/20 [14:53<00:00, 44.67s/it]"
     ]
    },
    {
     "name": "stdout",
     "output_type": "stream",
     "text": [
      "Epoch: 20 | train_loss: 0.3612 | train_acc: 0.8562 | test_loss: 0.3688 | test_acc: 0.8586\n",
      "[INFO] Total training time: 893.676 seconds\n"
     ]
    },
    {
     "name": "stderr",
     "output_type": "stream",
     "text": [
      "\n"
     ]
    }
   ],
   "source": [
    "import engine\n",
    "\n",
    "TEST_NAME = \"\"\n",
    "loss_fn = nn.CrossEntropyLoss() # multi-class classification\n",
    "optimizer = torch.optim.Adam(model_new.parameters(), lr=LR)\n",
    "\n",
    "torch.manual_seed(42)\n",
    "torch.cuda.manual_seed(42)\n",
    "\n",
    "start_time = timer()\n",
    "model_new = model_new.to(device)\n",
    "# Setup training and save the results\n",
    "results = engine.train(model=model_new,\n",
    "                train_dataloader=train_dataloader,\n",
    "                test_dataloader=test_dataloader,\n",
    "                optimizer=optimizer,\n",
    "                loss_fn=loss_fn,\n",
    "                epochs=NUM_EPOCHS,\n",
    "                device=device,\n",
    "                log_txt_saver=True,\n",
    "                save_model = False,\n",
    "                test_name = TEST_NAME\n",
    "                )\n",
    "\n",
    "# End the timer and print out how long it took\n",
    "end_time = timer()\n",
    "print(f\"[INFO] Total training time: {end_time-start_time:.3f} seconds\")"
   ]
  },
  {
   "cell_type": "code",
   "execution_count": 18,
   "metadata": {},
   "outputs": [
    {
     "data": {
      "image/png": "[encoded data removed]",
      "text/plain": [
       "<Figure size 1008x360 with 2 Axes>"
      ]
     },
     "metadata": {
      "needs_background": "light"
     },
     "output_type": "display_data"
    }
   ],
   "source": [
    "from util.util_plot import *\n",
    "\n",
    "# Plot the loss curves of our model\n",
    "plot_loss_accuracy_grid2_v2(results)"
   ]
  },
  {
   "cell_type": "code",
   "execution_count": 19,
   "metadata": {},
   "outputs": [
    {
     "name": "stderr",
     "output_type": "stream",
     "text": [
      "100%|██████████| 53/53 [00:07<00:00,  7.54it/s]\n"
     ]
    },
    {
     "name": "stdout",
     "output_type": "stream",
     "text": [
      "Total testing time: 7.028 (s).\n"
     ]
    }
   ],
   "source": [
    "test_preds = []\n",
    "\n",
    "model_new.to(device)\n",
    "model_new.eval()\n",
    "\n",
    "start_time_testset = timer()\n",
    "\n",
    "with torch.inference_mode():\n",
    "  for data, tab, target in tqdm(test_dataloader):\n",
    "    data, tab, target = data.to(device), tab.to(device), target.to(device)\n",
    "    \n",
    "    test_logits = model_new(data, tab)\n",
    "    pred_probs = torch.softmax(test_logits, dim=1)  # Convert the pred logits to pred probs\n",
    "    pred_labels = torch.argmax(pred_probs, dim=1)  # Convert the pred probs into pred labels\n",
    "\n",
    "    test_preds.append(pred_labels) \n",
    "\n",
    "end_time_testset = timer()\n",
    "print(f\"Total testing time: {end_time_testset-start_time_testset:.3f} (s).\")\n",
    "\n",
    "test_preds = torch.cat(test_preds).cpu()\n",
    "test_truth = torch.cat([target for data, tab, target in test_dataloader])"
   ]
  },
  {
   "cell_type": "code",
   "execution_count": 20,
   "metadata": {},
   "outputs": [
    {
     "name": "stdout",
     "output_type": "stream",
     "text": [
      "Main Parameters of model:Batch size: 40 \n",
      "Epochs: 20 \n",
      "Learning Rate: 0.0005 \n",
      "Dropout Prob: 0.1 \n",
      "Training time: 7.028\n"
     ]
    },
    {
     "data": {
      "image/png": "[encoded data removed]",
      "text/plain": [
       "<Figure size 576x288 with 2 Axes>"
      ]
     },
     "metadata": {
      "needs_background": "light"
     },
     "output_type": "display_data"
    }
   ],
   "source": [
    "from torchmetrics import ConfusionMatrix\n",
    "from mlxtend.plotting import plot_confusion_matrix\n",
    "\n",
    "conf_matrix_multiclass = ConfusionMatrix(task=\"multiclass\", num_classes=2)\n",
    "conf_matrix_tensor = conf_matrix_multiclass(preds=test_preds, target=test_truth)\n",
    "\n",
    "fig, ax = plot_confusion_matrix(\n",
    "    conf_mat=conf_matrix_tensor.numpy(), \n",
    "    class_names=[\"0\", \"1\"],\n",
    "    figsize=(8, 4),\n",
    "    colorbar=True,\n",
    "    # cmap = 'magma_r'\n",
    ")\n",
    "\n",
    "last_train_acc = round(results['train_acc'][NUM_EPOCHS-1],3)\n",
    "last_train_loss = round(results['train_loss'][NUM_EPOCHS-1],3)\n",
    "last_test_acc = round(results['test_acc'][NUM_EPOCHS-1],3)\n",
    "last_test_loss = round(results['test_loss'][NUM_EPOCHS-1],3)\n",
    "\n",
    "ax.set_title(f\"Confusion Matrix\"\n",
    "    +f\"\\n\\n\"+\n",
    "    f\"(train acc: {last_train_acc}, train loss: {last_train_loss})\\n\" +\n",
    "    f\"(test acc: {last_test_acc}, test loss: {last_test_loss})\\n\" +\n",
    "    f\"({NUM_EPOCHS} epochs)\"\n",
    "    )\n",
    "\n",
    "print(f\"Main Parameters of model:\"+ \n",
    "      f\"Batch size: {BATCH_SIZE} \\n\"+\n",
    "      f\"Epochs: {NUM_EPOCHS} \\n\"+\n",
    "      f\"Learning Rate: {LR} \\n\"+\n",
    "      f\"Dropout Prob: {DROPOUT_PROB} \\n\"+\n",
    "      f\"Training time: {end_time_testset-start_time_testset:.3f}\"\n",
    "      )"
   ]
  },
  {
   "cell_type": "code",
   "execution_count": 21,
   "metadata": {},
   "outputs": [
    {
     "name": "stdout",
     "output_type": "stream",
     "text": [
      "              precision    recall  f1-score   support\n",
      "\n",
      "           0       0.80      0.96      0.87      1046\n",
      "           1       0.95      0.76      0.84      1055\n",
      "\n",
      "    accuracy                           0.86      2101\n",
      "   macro avg       0.87      0.86      0.86      2101\n",
      "weighted avg       0.87      0.86      0.86      2101\n",
      "\n"
     ]
    }
   ],
   "source": [
    "from sklearn.metrics import classification_report\n",
    "print(classification_report(test_truth, test_preds))"
   ]
  },
  {
   "cell_type": "code",
   "execution_count": 22,
   "metadata": {},
   "outputs": [
    {
     "name": "stdout",
     "output_type": "stream",
     "text": [
      "[0.         0.04302103 1.        ]\n",
      "[0.         0.76113744 1.        ]\n",
      "[2 1 0]\n"
     ]
    },
    {
     "data": {
      "image/png": "[encoded data removed]",
      "text/plain": [
       "<Figure size 432x288 with 1 Axes>"
      ]
     },
     "metadata": {
      "needs_background": "light"
     },
     "output_type": "display_data"
    }
   ],
   "source": [
    "from sklearn.metrics import roc_curve, auc\n",
    "\n",
    "# Plot an ROC. pred - the predictions, y - the expected output.\n",
    "def plot_roc(pred,y,dropIntOpt):\n",
    "    fpr, tpr, thresholds = roc_curve(y, pred,drop_intermediate=dropIntOpt)\n",
    "    roc_auc = auc(fpr, tpr)\n",
    "    print(fpr)\n",
    "    print(tpr)\n",
    "    print(thresholds)\n",
    "\n",
    "    plt.figure()\n",
    "    plt.plot(fpr, tpr, label='ROC curve (area = %0.2f)' % roc_auc)\n",
    "    plt.plot([0, 1], [0, 1], 'k--')\n",
    "    plt.xlim([0.0, 1.0])\n",
    "    plt.ylim([0.0, 1.05])\n",
    "    plt.xlabel('False Positive Rate')\n",
    "    plt.ylabel('True Positive Rate')\n",
    "    plt.title('Receiver Operating Characteristic (ROC)')\n",
    "    plt.legend(loc=\"lower right\")\n",
    "    plt.show()\n",
    "\n",
    "plot_roc(test_preds,test_truth,False)"
   ]
  },
  {
   "attachments": {},
   "cell_type": "markdown",
   "metadata": {},
   "source": [
    "## Single Image Prediction"
   ]
  },
  {
   "cell_type": "code",
   "execution_count": 23,
   "metadata": {},
   "outputs": [],
   "source": [
    "simple_transform2 = transforms.Compose([\n",
    "    transforms.Grayscale(num_output_channels=3),\n",
    "    transforms.Resize((224, 224)), \n",
    "    transforms.ToTensor(), # between 0 & 1 \n",
    "    transforms.Normalize(mean=[0.485, 0.456, 0.406], # mean of [0.485, 0.456, 0.406] (across each colour channel)\n",
    "                         std=[0.229, 0.224, 0.225]) # standard deviation of [0.229, 0.224, 0.225] (across each colour channel)\n",
    "])"
   ]
  },
  {
   "cell_type": "code",
   "execution_count": 24,
   "metadata": {},
   "outputs": [],
   "source": [
    "def get_laterality(img):\n",
    "    img2 = img.convert('L')\n",
    "    img_array = np.asarray(img2)\n",
    "    img_array_T = np.transpose(img_array)\n",
    "    if np.sum(img_array_T[0]) < np.sum(img_array_T[-1]):\n",
    "        laterality = \"R\"\n",
    "    else:\n",
    "        laterality = \"L\"\n",
    "    return laterality"
   ]
  },
  {
   "cell_type": "code",
   "execution_count": 25,
   "metadata": {},
   "outputs": [],
   "source": [
    "def crop(img):\n",
    "    img_array = np.array(img)\n",
    "    bin = cv2.threshold(img_array, 20, 255, cv2.THRESH_BINARY)[1]\n",
    "    \n",
    "    cnts, _ = cv2.findContours(bin.astype(np.uint8), cv2.RETR_EXTERNAL, cv2.CHAIN_APPROX_SIMPLE)\n",
    "    cnt = max(cnts, key = cv2.contourArea)\n",
    "    \n",
    "    mask = np.zeros(img_array.shape, np.uint8)\n",
    "    cv2.drawContours(mask, [cnt], -1, 255, cv2.FILLED)\n",
    "\n",
    "    out = cv2.bitwise_and(img_array, mask)\n",
    "    x, y, w, h = cv2.boundingRect(cnt)\n",
    "\n",
    "    cropped = out[y:y+h, x:x+w]\n",
    "    mask = mask[y:y+h, x:x+w]\n",
    "\n",
    "    return cropped, mask\n"
   ]
  },
  {
   "cell_type": "code",
   "execution_count": 26,
   "metadata": {},
   "outputs": [],
   "source": [
    "def clahe(img, clip):\n",
    "    clahe = cv2.createCLAHE(clipLimit=clip, tileGridSize=(8,8))\n",
    "    cl = clahe.apply(np.array(img*255, dtype=np.uint8))\n",
    "    return cl"
   ]
  },
  {
   "cell_type": "code",
   "execution_count": 27,
   "metadata": {},
   "outputs": [],
   "source": [
    "def truncation_normalization(img, mask):\n",
    "    mask = cv2.resize(mask, np.array(img).T.shape, interpolation = cv2.INTER_AREA)\n",
    "    Pmin = np.percentile(img[mask!=0], 5)\n",
    "    Pmax = np.percentile(img[mask!=0], 99)\n",
    "    truncated = np.clip(img,Pmin, Pmax)  \n",
    "    normalized = (truncated - Pmin)/(Pmax - Pmin)\n",
    "    normalized[mask==0]=0\n",
    "    return normalized"
   ]
  },
  {
   "cell_type": "code",
   "execution_count": 28,
   "metadata": {},
   "outputs": [],
   "source": [
    "def process_image(image_path):\n",
    "    img = Image.open(image_path)\n",
    "\n",
    "    cropped, mask = crop(img)\n",
    "    normalized = truncation_normalization(cropped, mask)\n",
    "    cl1 = clahe(normalized, 1.0)\n",
    "    cl2 = clahe(normalized, 2.0)\n",
    "\n",
    "    processed_img = cv2.merge((np.array(normalized*255, dtype=np.uint8),cl1,cl2))\n",
    "    processed_img_resized = cv2.resize(processed_img, (224, 224), interpolation = cv2.INTER_AREA)\n",
    "\n",
    "    \n",
    "    laterality = get_laterality(img) \n",
    "    if laterality == 'R':\n",
    "        return cv2.flip(processed_img_resized, 1)\n",
    "    else:\n",
    "        return processed_img_resized"
   ]
  },
  {
   "cell_type": "code",
   "execution_count": 29,
   "metadata": {},
   "outputs": [],
   "source": [
    "def pred_single_img(image_path, model, transform, class_names, device=device):\n",
    "  \n",
    "  prep_image = process_image(image_path)\n",
    "  to_pil_img = transforms.ToPILImage()\n",
    "  prep_image = to_pil_img(prep_image)\n",
    "  transformed_image = transform(prep_image)\n",
    "  print(transformed_image.shape)\n",
    "\n",
    "  model.eval()\n",
    "  with torch.inference_mode():\n",
    "    pred_logit = model(transformed_image.unsqueeze(0).to(device), torch.zeros(1).to(device))\n",
    "    pred_prob = torch.softmax(pred_logit, dim=1)\n",
    "    pred_label = torch.argmax(pred_prob, dim=1)\n",
    "    pred_class = class_names[pred_label.cpu()]\n",
    "  \n",
    "  pred_prob_squeezed = pred_prob.unsqueeze(0).max().cpu().item()\n",
    "  # plot image and pred\n",
    "  plt.imshow(prep_image,'gray')\n",
    "  plt.title(f\"Pred: {pred_class} \\n\"+ \n",
    "            f\"Probability: {pred_prob_squeezed:.3f} \\n\"+\n",
    "            f\"(h: {prep_image.height}, w: {prep_image.width})\",\n",
    "            fontsize=18)\n",
    "            \n",
    "  plt.axis(False); \n",
    "\n",
    "  print(prep_image)\n",
    "  print(\"img width:\", prep_image.width, \n",
    "          \"\\nimg height:\", prep_image.height)\n",
    "  "
   ]
  },
  {
   "cell_type": "code",
   "execution_count": 30,
   "metadata": {},
   "outputs": [
    {
     "name": "stdout",
     "output_type": "stream",
     "text": [
      "torch.Size([3, 224, 224])\n",
      "<PIL.Image.Image image mode=RGB size=224x224 at 0x24A44C24E20>\n",
      "img width: 224 \n",
      "img height: 224\n"
     ]
    },
    {
     "data": {
      "image/png": "[encoded data removed]",
      "text/plain": [
       "<Figure size 432x288 with 1 Axes>"
      ]
     },
     "metadata": {
      "needs_background": "light"
     },
     "output_type": "display_data"
    }
   ],
   "source": [
    "single_img_path_name = \"./images_rsna/6018_640156723.png\"\n",
    "\n",
    "pred_single_img(image_path=single_img_path_name,\n",
    "              model=model_new,\n",
    "              transform=simple_transform2,\n",
    "              class_names=[\"0\", \"1\"])"
   ]
  }
 ],
 "metadata": {
  "kernelspec": {
   "display_name": "pytorch2",
   "language": "python",
   "name": "python3"
  },
  "language_info": {
   "codemirror_mode": {
    "name": "ipython",
    "version": 3
   },
   "file_extension": ".py",
   "mimetype": "text/x-python",
   "name": "python",
   "nbconvert_exporter": "python",
   "pygments_lexer": "ipython3",
   "version": "3.10.10"
  },
  "orig_nbformat": 4
 },
 "nbformat": 4,
 "nbformat_minor": 2
}
