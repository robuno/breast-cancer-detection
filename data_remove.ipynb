{
 "cells": [
  {
   "cell_type": "code",
   "execution_count": 1,
   "metadata": {},
   "outputs": [],
   "source": [
    "from random import sample\n",
    "import os\n",
    "from pathlib import Path\n",
    "import pathlib"
   ]
  },
  {
   "cell_type": "code",
   "execution_count": 7,
   "metadata": {},
   "outputs": [
    {
     "name": "stdout",
     "output_type": "stream",
     "text": [
      "rsna_dset_1_0reduced_splitted\\train\n",
      "['0', '1']\n"
     ]
    }
   ],
   "source": [
    "dset_path = pathlib.Path(\"rsna_dset_1_0reduced_splitted/train\")\n",
    "\n",
    "print(dset_path)\n",
    "\n",
    "print(os.listdir(dset_path))"
   ]
  },
  {
   "cell_type": "code",
   "execution_count": 8,
   "metadata": {},
   "outputs": [
    {
     "name": "stdout",
     "output_type": "stream",
     "text": [
      "Path: rsna_dset_1_0reduced_splitted\\train\\0  |  # of images:  9600\n",
      "Path: rsna_dset_1_0reduced_splitted\\train\\1  |  # of images:  6482\n",
      "--- count: 16082\n"
     ]
    }
   ],
   "source": [
    "for file_name in [dset_path]:\n",
    "    single_file_count = 0\n",
    "    for label_index in range(len(os.listdir(dset_path))):\n",
    "        label_path = file_name/str(label_index)\n",
    "        lst = os.listdir(label_path)\n",
    "        number_of_imgs = len(lst)\n",
    "        print(\"Path:\", label_path, \" |  # of images: \", number_of_imgs)\n",
    "        single_file_count += number_of_imgs\n",
    "    print(\"---\",\"count:\",single_file_count)"
   ]
  },
  {
   "cell_type": "code",
   "execution_count": 9,
   "metadata": {},
   "outputs": [
    {
     "name": "stdout",
     "output_type": "stream",
     "text": [
      "rsna_dset_1_0reduced_splitted\\train\\0\n",
      "9600\n"
     ]
    }
   ],
   "source": [
    "print(dset_path/str(0))\n",
    "print(len(os.listdir(dset_path/str(0))))"
   ]
  },
  {
   "cell_type": "code",
   "execution_count": 10,
   "metadata": {},
   "outputs": [],
   "source": [
    "folder_to_delete = os.listdir(dset_path/str(0))\n",
    "no_of_files_to_delete = 2000\n",
    "\n",
    "for file in sample(folder_to_delete, no_of_files_to_delete):\n",
    "    os.remove(dset_path/str(0)/file)"
   ]
  },
  {
   "cell_type": "code",
   "execution_count": 11,
   "metadata": {},
   "outputs": [
    {
     "name": "stdout",
     "output_type": "stream",
     "text": [
      "rsna_dset_1_0reduced_splitted\\train\\0\n",
      "7600\n"
     ]
    }
   ],
   "source": [
    "print(dset_path/str(0))\n",
    "print(len(os.listdir(dset_path/str(0))))"
   ]
  }
 ],
 "metadata": {
  "kernelspec": {
   "display_name": "pytorch_env_v_1_13_1",
   "language": "python",
   "name": "python3"
  },
  "language_info": {
   "codemirror_mode": {
    "name": "ipython",
    "version": 3
   },
   "file_extension": ".py",
   "mimetype": "text/x-python",
   "name": "python",
   "nbconvert_exporter": "python",
   "pygments_lexer": "ipython3",
   "version": "3.10.8"
  },
  "orig_nbformat": 4
 },
 "nbformat": 4,
 "nbformat_minor": 2
}
