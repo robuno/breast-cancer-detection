{
 "cells": [
  {
   "cell_type": "code",
   "execution_count": 1,
   "metadata": {},
   "outputs": [],
   "source": [
    "from random import sample\n",
    "import os\n",
    "from pathlib import Path\n",
    "import pathlib"
   ]
  },
  {
   "cell_type": "code",
   "execution_count": 3,
   "metadata": {},
   "outputs": [
    {
     "name": "stdout",
     "output_type": "stream",
     "text": [
      "ds\\DARK\\aug_49_mlo\\train\n",
      "['0', '1']\n"
     ]
    }
   ],
   "source": [
    "dset_path = pathlib.Path(\"ds/DARK/aug_49_mlo/train\")\n",
    "print(dset_path)\n",
    "print(os.listdir(dset_path))"
   ]
  },
  {
   "cell_type": "code",
   "execution_count": 4,
   "metadata": {},
   "outputs": [
    {
     "name": "stdout",
     "output_type": "stream",
     "text": [
      "Path: ds\\DARK\\aug_49_mlo\\train\\0  |  # of images:  8345\n",
      "Path: ds\\DARK\\aug_49_mlo\\train\\1  |  # of images:  235\n",
      "--- count: 8580\n"
     ]
    }
   ],
   "source": [
    "for file_name in [dset_path]:\n",
    "    single_file_count = 0\n",
    "    for label_index in range(len(os.listdir(dset_path))):\n",
    "        label_path = file_name/str(label_index)\n",
    "        lst = os.listdir(label_path)\n",
    "        number_of_imgs = len(lst)\n",
    "        print(\"Path:\", label_path, \" |  # of images: \", number_of_imgs)\n",
    "        single_file_count += number_of_imgs\n",
    "    print(\"---\",\"count:\",single_file_count)"
   ]
  },
  {
   "cell_type": "code",
   "execution_count": 5,
   "metadata": {},
   "outputs": [
    {
     "name": "stdout",
     "output_type": "stream",
     "text": [
      "ds\\DARK\\aug_49_mlo\\train\\0\n",
      "8345\n"
     ]
    }
   ],
   "source": [
    "select_folder = 0\n",
    "print(dset_path/str(select_folder))\n",
    "print(len(os.listdir(dset_path/str(select_folder))))"
   ]
  },
  {
   "attachments": {},
   "cell_type": "markdown",
   "metadata": {},
   "source": [
    "# select file name to delete"
   ]
  },
  {
   "cell_type": "code",
   "execution_count": 10,
   "metadata": {},
   "outputs": [],
   "source": [
    "target_class = str(0)\n",
    "folder_to_delete = os.listdir(dset_path/target_class)\n",
    "\n",
    "\n",
    "for file in sample(folder_to_delete, len(os.listdir(dset_path/target_class))):\n",
    "\n",
    "    # print(dset_path/str(1)/file)\n",
    "    # if (\"flip\" in str(dset_path/target_class/file)) or (\"rot10\" in str(dset_path/target_class/file)) or (\"size\" in str(dset_path/target_class/file)):\n",
    "    #     os.remove(dset_path/target_class/file)\n",
    "\n",
    "    if (\"rot10\" in str(dset_path/target_class/file)) or (\"rot350\" in str(dset_path/target_class/file)) :\n",
    "        os.remove(dset_path/target_class/file)\n",
    "\n",
    "    # if (\"size\" in str(dset_path/target_class/file)):\n",
    "    #     os.remove(dset_path/target_class/file)"
   ]
  },
  {
   "attachments": {},
   "cell_type": "markdown",
   "metadata": {},
   "source": [
    "# random delete"
   ]
  },
  {
   "cell_type": "code",
   "execution_count": 8,
   "metadata": {},
   "outputs": [],
   "source": [
    "folder_to_delete = os.listdir(dset_path/str(0))\n",
    "no_of_files_to_delete = 110\n",
    "\n",
    "for file in sample(folder_to_delete, no_of_files_to_delete):\n",
    "    os.remove(dset_path/str(0)/file)"
   ]
  },
  {
   "cell_type": "code",
   "execution_count": 11,
   "metadata": {},
   "outputs": [
    {
     "name": "stdout",
     "output_type": "stream",
     "text": [
      "ds\\DARK\\aug_49_mlo\\train\\0\n",
      "4700\n"
     ]
    }
   ],
   "source": [
    "print(dset_path/str(0))\n",
    "print(len(os.listdir(dset_path/str(0))))"
   ]
  }
 ],
 "metadata": {
  "kernelspec": {
   "display_name": "pytorch_env_v_1_13_1",
   "language": "python",
   "name": "python3"
  },
  "language_info": {
   "codemirror_mode": {
    "name": "ipython",
    "version": 3
   },
   "file_extension": ".py",
   "mimetype": "text/x-python",
   "name": "python",
   "nbconvert_exporter": "python",
   "pygments_lexer": "ipython3",
   "version": "3.10.8"
  },
  "orig_nbformat": 4
 },
 "nbformat": 4,
 "nbformat_minor": 2
}
